{
 "cells": [
  {
   "cell_type": "markdown",
   "metadata": {},
   "source": [
    "## Parsing"
   ]
  },
  {
   "cell_type": "code",
   "execution_count": null,
   "metadata": {},
   "outputs": [],
   "source": [
    "import spacy\n",
    "from spacy.tokens import DocBin\n",
    "from spacy.training.example import Example\n",
    "\n",
    "# Load a blank spaCy model\n",
    "nlp = spacy.blank(\"en\")"
   ]
  },
  {
   "cell_type": "code",
   "execution_count": null,
   "metadata": {},
   "outputs": [],
   "source": [
    "# Add the \"Quantity\" label to the parser\n",
    "if \"parser\" not in nlp.pipe_names:\n",
    "    parser = nlp.add_pipe(\"parser\")\n",
    "else:\n",
    "    parser = nlp.get_pipe(\"parser\")\n",
    "parser.add_label(\"Quantity\")"
   ]
  },
  {
   "cell_type": "code",
   "execution_count": null,
   "metadata": {},
   "outputs": [],
   "source": [
    "# training data \n",
    "training_data = [\n",
    "    (\"Few people attended the meeting\", {\"heads\": [1, 2, 2, 2, 2], \"deps\": [\"Quantity\", \"nsubj\", \"ROOT\", \"det\", \"dobj\"]}),\n",
    "    (\"We need many volunteers\", {\"heads\": [1, 1, 1, 1], \"deps\": [\"nsubj\", \"ROOT\", \"Quantity\", \"dobj\"]}),\n",
    "    (\"Some books are more interesting than others\", {\"heads\": [1, 2, 2, 3, 2, 5, 4], \"deps\": [\"Quantity\", \"nsubj\", \"ROOT\", \"advmod\", \"acomp\", \"prep\", \"pobj\"]}),\n",
    "    (\"She knows all her neighbors\", {\"heads\": [1, 1, 4, 4, 1], \"deps\": [\"nsubj\", \"ROOT\", \"Quantity\", \"poss\", \"dobj\"]}),\n",
    "    (\"He read half the book\", {\"heads\": [1, 1, 4, 4, 1], \"deps\": [\"nsubj\", \"ROOT\", \"Quantity\", \"det\", \"dobj\"]}),\n",
    "    (\"She read the whole book in one day\", {\"heads\": [1, 1, 4, 4, 1, 4, 5, 1], \"deps\": [\"nsubj\", \"ROOT\", \"det\", \"Quantity\", \"dobj\", \"prep\", \"nummod\", \"pobj\"]}),\n",
    "    (\"I have enough time\", {\"heads\": [1, 1, 1, 1], \"deps\": [\"nsubj\", \"ROOT\", \"Quantity\", \"dobj\"]}),\n",
    "    (\"There were numerous complaints about the noise\", {\"heads\": [1, 1, 3, 1, 5, 3, 5], \"deps\": [\"expl\", \"ROOT\", \"Quantity\", \"attr\", \"prep\", \"det\", \"pobj\"]})\n",
    "]"
   ]
  },
  {
   "cell_type": "code",
   "execution_count": null,
   "metadata": {},
   "outputs": [],
   "source": [
    "# Train the model\n",
    "optimizer = nlp.begin_training()\n",
    "for i in range(19):  \n",
    "    for text, annotations in training_data:\n",
    "        doc = nlp.make_doc(text)\n",
    "        example = Example.from_dict(doc, {\"heads\": annotations[\"heads\"], \"deps\": annotations[\"deps\"]})\n",
    "        nlp.update([example], sgd=optimizer)\n",
    "\n",
    "# Test the model\n",
    "test_text = [\"Few places are this beautiful\",\n",
    "            \"We have many plants at home\",\n",
    "            \"Some people prefer to work in the evening\",\n",
    "            \"She gave all her energy\",             \n",
    "            \"He drank half the cup of water\",            \n",
    "            \"She met with the whole team\",\n",
    "            \"We have enough time to finish the task\",\n",
    "            \"There are numerous doctors in the region\"]\n",
    "for text in test_text:\n",
    "    doc = nlp(text)\n",
    "    for token in doc:\n",
    "        print(token.text, token.dep_, token.head.text)\n",
    "\n",
    "    print()"
   ]
  }
 ],
 "metadata": {
  "kernelspec": {
   "display_name": "ML",
   "language": "python",
   "name": "python3"
  },
  "language_info": {
   "name": "python",
   "version": "3.10.13"
  }
 },
 "nbformat": 4,
 "nbformat_minor": 2
}
